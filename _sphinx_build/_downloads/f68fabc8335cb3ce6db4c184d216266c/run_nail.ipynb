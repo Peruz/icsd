{
  "cells": [
    {
      "cell_type": "code",
      "execution_count": null,
      "metadata": {
        "collapsed": false
      },
      "outputs": [],
      "source": [
        "%matplotlib inline"
      ]
    },
    {
      "cell_type": "markdown",
      "metadata": {},
      "source": [
        "\n# Inversion of current source density apply to a roots imaging\n"
      ]
    },
    {
      "cell_type": "code",
      "execution_count": null,
      "metadata": {
        "collapsed": false
      },
      "outputs": [],
      "source": [
        "import os\nimport matplotlib.pyplot as plt\n\n# import numpy as np\n\n# maindir='E:/Padova/Software/SourceInversion/icsd_dev/'\n# os.chdir(maindir)\n\n# -----------------------------------#\n# Exemple cotton\n# -----------------------------------#\n# path2files=\"examples/Cotton_Soil/Nail1/\"\npath2files=\"./Cotton_Soil/nail1/\"\n\n# path2files = os.path.join(os.path.dirname('__file__'), '/Cotton_Soil/Nail1/')\n# cwd=os.getcwd()\n\n# path2files= '../examples/nail1/'\n# DIR= cwd + path2files\n\n# os.chdir(DIR)\n# path2files = \n# fname = os.path.join(cwd, path2files)\n\n# from icsd2d_class import iCSD2d_Class as i2d\n# icsd=i2d(dirName=path2files)   \n# icsd.icsd_init()\n\n# # \n# icsd.wr=1 #weight regularization\n# icsd.run_single()\n# icsd.run_pareto()\n\n# -----------------------------------#\n# apply here a smallness contrainst to the regularisation\n\nfrom icsd.icsd3d import iCSD3d as i3d \nfrom icsd.plotters import mpl_plot\n\n# mpl_plot.showObs2d(path2files)\n\n\n# import iCSD3d_Class as i3d\n\nicsd=i3d(dirName=path2files)   \nicsd.type='2d'\nicsd.obs_err='sqrt' # choose between constant weight and w = 1/sqrt(abs(obs))\nicsd.wr=1 #weight regularization\nicsd.alphaSxy=False\nicsd.x0_prior=False\nicsd.x0_ini_guess=False # initial guess\n#icsd.icsd_init()\n\nicsd.createSurvey(fname_obs='ObsData.txt',fname_sim='VRTeSim.txt')\n# icsd.plotElecs=False\n\nm0 = icsd.estimateM0(method_m0='F1',show=True)\nm0 = icsd.estimateM0(method_m0='Pearson',show=True)\n\n# icsd.clim=[0,0.1]\n# icsd.run_single()\n\nsol= icsd.invert(x0_prior=False,wr=1)\n# icsd.invert(pareto=True, regMesh='strc',x0_prior=True, \n#             pareto_MinErr=1, pareto_MaxErr=100)\n\n\n \nfig, ax = plt.subplots()\nax.scatter([0.2,0.4],[0.1,0.3],color='r',marker='v')\nicsd.showResults(ax=ax)\n# fig, ax = plt.subplots()\nplt.show()\n\n\nicsd.showResults()\n\n# icsd.ModelResolution(jacMi=305)\n\n# run pareto\nicsd.pareto_MinErr=0.01\nicsd.pareto_MaxErr=10\nicsd.pareto_nSteps=10\n\nicsd.knee=False\nicsd.run_pareto()"
      ]
    }
  ],
  "metadata": {
    "kernelspec": {
      "display_name": "Python 3",
      "language": "python",
      "name": "python3"
    },
    "language_info": {
      "codemirror_mode": {
        "name": "ipython",
        "version": 3
      },
      "file_extension": ".py",
      "mimetype": "text/x-python",
      "name": "python",
      "nbconvert_exporter": "python",
      "pygments_lexer": "ipython3",
      "version": "3.9.5"
    }
  },
  "nbformat": 4,
  "nbformat_minor": 0
}