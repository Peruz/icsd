{
  "cells": [
    {
      "cell_type": "code",
      "execution_count": null,
      "metadata": {
        "collapsed": false
      },
      "outputs": [],
      "source": [
        "%matplotlib inline"
      ]
    },
    {
      "cell_type": "markdown",
      "metadata": {},
      "source": [
        "\n# ICSD: calibration in water\n\nThis example illustrate the use of the ICSD code for a calibration experiment consisting in emerging an isolate cable in a box filled with water. \nThe tip of the cable release the current into the water. The aim is to find the location of the cable tip after measuring the potentials at different location of the box.\nFor further information see Peruzzo et al. (2019)\n"
      ]
    },
    {
      "cell_type": "code",
      "execution_count": null,
      "metadata": {
        "collapsed": false
      },
      "outputs": [],
      "source": [
        "# Import packages\nimport matplotlib.pyplot as plt\nfrom icsd.icsd3d import iCSD3d as i3d \nfrom icsd.plotters import mpl_plot\n\n\npath2files=\"./Cotton_Soil/nail1/\"\n\nicsd=i3d(dirName=path2files)   \nicsd.type='2d'\nicsd.obs_err='sqrt' # choose between constant weight and w = 1/sqrt(abs(obs))\nicsd.wr=1 #weight regularization\nicsd.alphaSxy=False\nicsd.x0_prior=False\nicsd.x0_ini_guess=False # initial guess\n\n# create a survey container\nicsd.createSurvey(fname_obs='ObsData.txt',fname_sim='VRTeSim.txt')\n\n# First method to estimate m0\nm0 = icsd.estimateM0(method_m0='F1',show=True)\n\n# Second method to estimate the initial model based on Pearson analysis\nm0 = icsd.estimateM0(method_m0='Pearson',show=True)\n\n# Invert the data\nsol= icsd.invert(x0_prior=False,wr=1)\n\n\n# Plot the results \nfig, ax = plt.subplots()\nicsd.showResults(ax=ax)\nplt.show()\n\n\n# Another way to plot the result\nicsd.showResults()\n\n\n# Run pareto analysis between 0.01 to 10 of regularisation weight\nicsd.pareto_MinErr=0.01\nicsd.pareto_MaxErr=10\nicsd.pareto_nSteps=10\nicsd.run_pareto()"
      ]
    }
  ],
  "metadata": {
    "kernelspec": {
      "display_name": "Python 3",
      "language": "python",
      "name": "python3"
    },
    "language_info": {
      "codemirror_mode": {
        "name": "ipython",
        "version": 3
      },
      "file_extension": ".py",
      "mimetype": "text/x-python",
      "name": "python",
      "nbconvert_exporter": "python",
      "pygments_lexer": "ipython3",
      "version": "3.9.5"
    }
  },
  "nbformat": 4,
  "nbformat_minor": 0
}