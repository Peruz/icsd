{
  "cells": [
    {
      "cell_type": "code",
      "execution_count": null,
      "metadata": {
        "collapsed": false
      },
      "outputs": [],
      "source": [
        "%matplotlib inline"
      ]
    },
    {
      "cell_type": "markdown",
      "metadata": {},
      "source": [
        "\n# Inversion of current source density apply to a roots imaging\n"
      ]
    },
    {
      "cell_type": "code",
      "execution_count": null,
      "metadata": {
        "collapsed": false
      },
      "outputs": [],
      "source": [
        "import os\nimport matplotlib.pyplot as plt\n\n# -----------------------------------#\n# Exemple Landfill\n# -----------------------------------#\npath2files=\"./Landfill_3d/\"\n\nfrom icsd.icsd3d import iCSD3d as i3d \nfrom icsd.plotters import mpl_plot\nimport numpy as np\n\n\ncoords_elecs = np.loadtxt(path2files+'coords_elecs.txt')[:-3,:]\nlen(coords_elecs)\nmpl_plot.showObs2d(path2files,coords_elecs,\n                   filename='solution.data')\n\nicsd3d_landfill=i3d(dirName=path2files)   \nicsd3d_landfill.regMesh='strc'\nicsd3d_landfill.type='3d'\nicsd3d_landfill.obs_err='sqrt' # choose between constant weight and w = 1/sqrt(abs(obs))\nicsd3d_landfill.wr=1 #weight regularization\nicsd3d_landfill.alphaSxy=False\nicsd3d_landfill.x0_prior=False\nicsd3d_landfill.x0_ini_guess=False # initial guess\n\n    \nicsd3d_landfill.createSurvey(fname_obs='solution.data',fname_sim='Green.data')\n\nicsd3d_landfill.invert(show=True)\n\n# Unconstrainsted current source densities inversion\nicsd3d_landfill.invert(wr=1,x0_prior=False)\n\nicsd3d_landfill.invert()\n# Estimate initial model\nicsd3d_landfill.estimateM0(method_m0='F1', show=True)\n\n# Constrainsted current source densities inversion\nicsd3d_landfill.invert(regMesh='strc',wr=1,x0_prior=False)\n# icsd3d_landfill.invertregMesh='strc',x0_prior=True)\n\n\nimport matplotlib.pyplot as plt\n\nfrom mpl_toolkits.mplot3d import Axes3D\n\n\nfig = plt.figure()\nax=fig.gca(projection='3d')\nicsd3d_landfill.showResults(ax=ax,\n                            mesh='fwd_mesh_landfill.vtk')\nplt.show()"
      ]
    }
  ],
  "metadata": {
    "kernelspec": {
      "display_name": "Python 3",
      "language": "python",
      "name": "python3"
    },
    "language_info": {
      "codemirror_mode": {
        "name": "ipython",
        "version": 3
      },
      "file_extension": ".py",
      "mimetype": "text/x-python",
      "name": "python",
      "nbconvert_exporter": "python",
      "pygments_lexer": "ipython3",
      "version": "3.9.5"
    }
  },
  "nbformat": 4,
  "nbformat_minor": 0
}