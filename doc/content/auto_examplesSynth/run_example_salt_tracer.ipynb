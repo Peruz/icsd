{
  "cells": [
    {
      "cell_type": "code",
      "execution_count": null,
      "metadata": {
        "collapsed": false
      },
      "outputs": [],
      "source": [
        "%matplotlib inline"
      ]
    },
    {
      "cell_type": "markdown",
      "metadata": {},
      "source": [
        "\n# Salt tracer experiment\n"
      ]
    },
    {
      "cell_type": "code",
      "execution_count": null,
      "metadata": {
        "collapsed": false
      },
      "outputs": [],
      "source": [
        "import os\nimport numpy as np\nimport matplotlib.pyplot as plt\n\n# -----------------------------------#\n# Example time-lapse salt tracer\n# show the importance of an anisotropic spatial regularisation\n# -----------------------------------#\nfrom icsd.icsd3d import iCSD3d as i3d \nimport pyvista as pv\n\ntstep=1\npath2files=\"./Salt_tracer/t\"+str(tstep) +'/'\n\nicsd_Salt=i3d(dirName=path2files)   \nicsd_Salt.type='2d'\nicsd_Salt.createSurvey(\n                        fname_obs=\"OMALMtimeReg\"+str(tstep)+\"_synt.txt\",\n                        fname_sim=\"SMALMtimeReg\"+str(tstep)+\".txt\"\n                       )\n\nicsd_Salt.coord_file=\"VRTeCoord.txt\"\nicsd_Salt.regMesh='strc'\nicsd_Salt.x0_prior=False\nicsd_Salt.x0_ini_guess=False # initial guess\n# icsd3d_TL_RWU.wr=0\nicsd_Salt.plotElecs=True\n# icsd3d_Salt.clim=[0,0.1]\n\nicsd_Salt.obs_err='sqrt' # choose between constant weight and w = 1/sqrt(abs(obs))\n\nicsd_Salt.alphaSxy=False\nicsd_Salt.alphax0=1 # weight of relative smallness\nicsd_Salt.alphaSx=1 # x-smooth\nicsd_Salt.alphaSy=1 # y-smooth"
      ]
    },
    {
      "cell_type": "markdown",
      "metadata": {},
      "source": [
        "Invert \n\n"
      ]
    },
    {
      "cell_type": "code",
      "execution_count": null,
      "metadata": {
        "collapsed": false
      },
      "outputs": [],
      "source": [
        "icsd_Salt.invert(x0_prior=False)"
      ]
    },
    {
      "cell_type": "code",
      "execution_count": null,
      "metadata": {
        "collapsed": false
      },
      "outputs": [],
      "source": [
        "fig, ax = plt.subplots()\nicsd_Salt.showResults(ax=ax)\nplt.show()\n\n\n# icsd3d_Salt.pareto_MinErr=0.1\n# icsd3d_Salt.pareto_MaxErr=200\n# icsd3d_Salt.knee=True\n# icsd3d_Salt.run_pareto()"
      ]
    }
  ],
  "metadata": {
    "kernelspec": {
      "display_name": "Python 3",
      "language": "python",
      "name": "python3"
    },
    "language_info": {
      "codemirror_mode": {
        "name": "ipython",
        "version": 3
      },
      "file_extension": ".py",
      "mimetype": "text/x-python",
      "name": "python",
      "nbconvert_exporter": "python",
      "pygments_lexer": "ipython3",
      "version": "3.8.13"
    }
  },
  "nbformat": 4,
  "nbformat_minor": 0
}