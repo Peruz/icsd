{
  "cells": [
    {
      "cell_type": "code",
      "execution_count": null,
      "metadata": {
        "collapsed": false
      },
      "outputs": [],
      "source": [
        "%matplotlib inline"
      ]
    },
    {
      "cell_type": "markdown",
      "metadata": {},
      "source": [
        "\n# ICSD: landfill leakage\n\nThis example illustrate the use of the ICSD code for a synthetic experiment mimicking a landfill leakage. \nThe landill is waterthight except at one point. The aim is to find the location of the leak measuring the potentials at different location outside the landfill.\nIt shows how to prepare the initial model, invert and plot the data in three dimensions using pyvista.\n"
      ]
    },
    {
      "cell_type": "code",
      "execution_count": null,
      "metadata": {
        "collapsed": false
      },
      "outputs": [],
      "source": [
        "# Import packages\nimport matplotlib.pyplot as plt\nfrom mpl_toolkits.mplot3d import Axes3D\nfrom icsd.icsd3d import iCSD3d as i3d \nfrom icsd.plotters import mpl_plot\nimport numpy as np\n\npath2files=\"./Landfill_3d/\"\n\n# load electrode coordinates\ncoords_elecs = np.loadtxt(path2files+'coords_elecs.txt')[:-3,:]\nmpl_plot.showObs2d(path2files,coords_elecs,\n                   filename='solution.data')\n\nicsd3d_landfill=i3d(dirName=path2files)   \nicsd3d_landfill.regMesh='strc'\nicsd3d_landfill.type='3d'\nicsd3d_landfill.obs_err='sqrt' # choose between constant weight and w = 1/sqrt(abs(obs))\nicsd3d_landfill.wr=1 #weight regularization\nicsd3d_landfill.alphaSxy=False\nicsd3d_landfill.x0_prior=False\nicsd3d_landfill.x0_ini_guess=False # initial guess\n\n# create a survey container\nicsd3d_landfill.createSurvey(\n                            fname_obs='solution.data',\n                            fname_sim='Green.data'\n                            )\n\n# invert and show\nicsd3d_landfill.invert(show=True)\n\n# Unconstrainsted current source densities inversion\nicsd3d_landfill.invert(wr=1,x0_prior=False)\n\n# Estimate initial model\nicsd3d_landfill.estimateM0(method_m0='F1',show=True)\n\n# Constrainsted current source densities inversion\nicsd3d_landfill.invert(regMesh='strc',wr=1,x0_prior=False)\n\n# Plot in 3d\nfig = plt.figure()\nax=fig.gca(projection='3d')\nicsd3d_landfill.showResults(ax=ax,\n                            mesh='fwd_mesh_landfill.vtk')\nplt.show()"
      ]
    }
  ],
  "metadata": {
    "kernelspec": {
      "display_name": "Python 3",
      "language": "python",
      "name": "python3"
    },
    "language_info": {
      "codemirror_mode": {
        "name": "ipython",
        "version": 3
      },
      "file_extension": ".py",
      "mimetype": "text/x-python",
      "name": "python",
      "nbconvert_exporter": "python",
      "pygments_lexer": "ipython3",
      "version": "3.9.5"
    }
  },
  "nbformat": 4,
  "nbformat_minor": 0
}