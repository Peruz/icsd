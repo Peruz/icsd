{
  "cells": [
    {
      "cell_type": "code",
      "execution_count": null,
      "metadata": {
        "collapsed": false
      },
      "outputs": [],
      "source": [
        "%matplotlib inline"
      ]
    },
    {
      "cell_type": "markdown",
      "metadata": {},
      "source": [
        "\n# Multiple sources inversion of CSD\nThe procedure to generate the data is describe in Peruzzo et al. (2020). \nThe synthetic test evaluates the iCSD capability to locate a current point source (white dot). \nThe white circles represent the VRTe and the white square the return electrode. \nThe source of current was centered between four VRTe to highlight the distribution of the current density.\n\n*Peruzzo, L., Chou, C., Wu, Y. et al. Imaging of plant current pathways for non-invasive root Phenotyping using a newly developed electrical current source density approach. Plant Soil 450, 567\u2013584 (2020). https://doi.org/10.1007/s11104-020-04529-w*\n"
      ]
    },
    {
      "cell_type": "markdown",
      "metadata": {},
      "source": [
        "**Import the icsd package**\n\n"
      ]
    },
    {
      "cell_type": "code",
      "execution_count": null,
      "metadata": {
        "collapsed": false
      },
      "outputs": [],
      "source": [
        "import matplotlib.pyplot as plt\nfrom icsd.icsd3d import iCSD3d as i3d"
      ]
    },
    {
      "cell_type": "markdown",
      "metadata": {},
      "source": [
        "**Change inversion parameters** \n\n"
      ]
    },
    {
      "cell_type": "code",
      "execution_count": null,
      "metadata": {
        "collapsed": false
      },
      "outputs": [],
      "source": [
        "path2files=\"./iCSD_fig7/\"\nicsd=i3d(dirName=path2files)   \n\nfrom icsd.icsd3d import iCSD3d as i3d \n\nicsd=i3d(dirName=path2files)   \nicsd.type='2d'\nicsd.obs_err='sqrt' # choose between constant weight and w = 1/sqrt(abs(obs))\nicsd.wr=1 #weight regularization\nicsd.alphaSxy=False\nicsd.x0_prior=False\nicsd.x0_ini_guess=False # initial guess\n\nicsd.createSurvey(fname_obs='ObsData.txt',fname_sim='VRTeSim.txt')\nsol= icsd.invert(x0_prior=False,wr=1,show=True)"
      ]
    }
  ],
  "metadata": {
    "kernelspec": {
      "display_name": "Python 3",
      "language": "python",
      "name": "python3"
    },
    "language_info": {
      "codemirror_mode": {
        "name": "ipython",
        "version": 3
      },
      "file_extension": ".py",
      "mimetype": "text/x-python",
      "name": "python",
      "nbconvert_exporter": "python",
      "pygments_lexer": "ipython3",
      "version": "3.8.13"
    }
  },
  "nbformat": 4,
  "nbformat_minor": 0
}