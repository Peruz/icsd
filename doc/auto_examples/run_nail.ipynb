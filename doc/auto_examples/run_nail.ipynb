{
  "cells": [
    {
      "cell_type": "code",
      "execution_count": null,
      "metadata": {
        "collapsed": false
      },
      "outputs": [],
      "source": [
        "%matplotlib inline"
      ]
    },
    {
      "cell_type": "markdown",
      "metadata": {},
      "source": [
        "\n# Inversion of current source density apply to a roots imaging\n"
      ]
    },
    {
      "cell_type": "code",
      "execution_count": null,
      "metadata": {
        "collapsed": false
      },
      "outputs": [],
      "source": [
        "import os\nimport matplotlib.pyplot as plt\n\n# -----------------------------------#\n# Exemple cotton\n# -----------------------------------#\npath2files=\"./Cotton_Soil/nail1/\"\n\nfrom icsd.icsd3d import iCSD3d as i3d \nfrom icsd.plotters import mpl_plot\n\nicsd=i3d(dirName=path2files)   \nicsd.type='2d'\nicsd.obs_err='sqrt' # choose between constant weight and w = 1/sqrt(abs(obs))\nicsd.wr=1 #weight regularization\nicsd.alphaSxy=False\nicsd.x0_prior=False\nicsd.x0_ini_guess=False # initial guess\n#icsd.icsd_init()\n\nicsd.createSurvey(fname_obs='ObsData.txt',fname_sim='VRTeSim.txt')\n# icsd.plotElecs=False\n\nm0 = icsd.estimateM0(method_m0='F1',show=True)\nm0 = icsd.estimateM0(method_m0='Pearson',show=True)\n\n# icsd.clim=[0,0.1]\n# icsd.run_single()\n\nsol= icsd.invert(x0_prior=False,wr=1)\n\n\n \nfig, ax = plt.subplots()\nax.scatter([0.2,0.4],[0.1,0.3],color='r',marker='v')\nicsd.showResults(ax=ax)\n# fig, ax = plt.subplots()\nplt.show()\n\n\nicsd.showResults()\n\n# icsd.ModelResolution(jacMi=305)\n\n# run pareto\nicsd.pareto_MinErr=0.01\nicsd.pareto_MaxErr=10\nicsd.pareto_nSteps=10\n\nicsd.knee=False\nicsd.run_pareto()"
      ]
    }
  ],
  "metadata": {
    "kernelspec": {
      "display_name": "Python 3",
      "language": "python",
      "name": "python3"
    },
    "language_info": {
      "codemirror_mode": {
        "name": "ipython",
        "version": 3
      },
      "file_extension": ".py",
      "mimetype": "text/x-python",
      "name": "python",
      "nbconvert_exporter": "python",
      "pygments_lexer": "ipython3",
      "version": "3.8.13"
    }
  },
  "nbformat": 4,
  "nbformat_minor": 0
}